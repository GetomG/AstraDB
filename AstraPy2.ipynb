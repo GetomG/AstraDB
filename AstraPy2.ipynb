{
 "cells": [
  {
   "cell_type": "markdown",
   "id": "d486cc31",
   "metadata": {},
   "source": [
    "# AstraPy\n",
    "\n",
    "AstraPy is a Pythonic SDK for [DataStax Astra](https://astra.datastax.com)\n",
    "\n",
    "[**Part I - Getting Started**](#part-i---getting-started)\n",
    "\n",
    "- [1.1 Install AstraPy](#11-install-astrapy)\n",
    "- [1.2 Setup your Astra client](#12-setup-your-astra-client)\n",
    "\n",
    "[**Part II - Collections**](#part-ii---collections)\n",
    "\n",
    "- [2.1 Create and delete vector collections](#21-create-and-delete-vector-collections)\n",
    "- [2.2 Connect to existing collection](#22-connect-to-existing-collection)\n",
    "\n",
    "[**Part III - Inserting Documents**](#part-iii---inserting-documents)\n",
    "\n",
    "- [3.1 - Inserting a document](#31-inserting-a-document)\n",
    "- [3.2 - Inserting multiple documents](#32-inserting-multiple-documents)\n",
    "- [3.3 - Inserting multiple documents](#33-inserting-multiple-vector-documents)\n",
    "- [3.4 - Creating a subdocument](#34-creating-a-subdocument)\n",
    "- [3.5 - Create a document without an ID](#35-create-a-document-without-an-id)\n",
    "\n",
    "[**Part IV - Updating Documents**](#part-iv---updating-documents)\n",
    "\n",
    "- [4.1 - Update a Document](#41-update-a-document)\n",
    "- [4.2 - Replace a Non-vector-document](#42-replace-a-non-vector-document)\n",
    "\n",
    "[**Part V - Finding Documents**](#part-v---finding-documents)\n",
    "\n",
    "- [5.1 - Find documents using vector search](#51-find-documents-using-vector-search)\n",
    "- [5.2 - Find documents using vector search and projection](#52-find-documents-using-vector-search-and-projection)\n",
    "- [5.3 - Find one and update with vector search](#53-find-one-and-update-with-vector-search)\n",
    "- [5.4 Find one and replace with vector search](#54-find-one-and-replace-with-vector-search)\n",
    "\n",
    "[**Part VI - Deleting Documents**](#part-vi---deleting-documents)\n",
    "\n",
    "- [6.1 Delete a Subdocument](#61-delete-a-subdocument)\n",
    "- [6.2 Delete a Document](#62-delete-a-document)\n",
    "\n",
    "## Part I - Getting Started\n",
    "\n",
    "### 1.1 Install AstraPy"
   ]
  },
  {
   "cell_type": "code",
   "execution_count": null,
   "id": "b8b6115e",
   "metadata": {},
   "outputs": [],
   "source": [
    "%%bash\n",
    "pip install astrapy"
   ]
  },
  {
   "cell_type": "markdown",
   "id": "dd1f9a13",
   "metadata": {},
   "source": [
    "### 1.2 Setup your Astra client\n",
    "\n",
    "Create a `.env` file with the appropriate values:"
   ]
  },
  {
   "cell_type": "code",
   "execution_count": null,
   "id": "41a61674",
   "metadata": {},
   "outputs": [],
   "source": [
    "%%bash\n",
    "ASTRA_DB_APPLICATION_TOKEN=\"<AstraCS:...>\"\n",
    "ASTRA_DB_API_ENDPOINT=\"<https://...>\""
   ]
  },
  {
   "cell_type": "markdown",
   "id": "de8a87a3",
   "metadata": {},
   "source": [
    "> If you have [Astra CLI](https://docs.datastax.com/en/astra-cli/docs/0.2/installation.html) installed, you can create the `.env` file with\n",
    "> `astra db create-dotenv DATABASE_NAME`.\n",
    "\n",
    "Load the variables in and then create the client. This collections client can make non-vector and vector calls, depending on the call configuration."
   ]
  },
  {
   "cell_type": "code",
   "execution_count": null,
   "id": "d3793557",
   "metadata": {},
   "outputs": [],
   "source": [
    "import os\n",
    "\n",
    "from dotenv import load_dotenv\n",
    "\n",
    "from astrapy.db import AstraDB, AstraDBCollection\n",
    "from astrapy.ops import AstraDBOps\n",
    "\n",
    "load_dotenv()\n",
    "\n",
    "# Grab the Astra token and api endpoint from the environment\n",
    "token = os.getenv(\"ASTRA_DB_APPLICATION_TOKEN\")\n",
    "api_endpoint = os.getenv(\"ASTRA_DB_API_ENDPOINT\")\n",
    "\n",
    "# Initialize our vector db\n",
    "astra_db = AstraDB(token=token, api_endpoint=api_endpoint)"
   ]
  },
  {
   "cell_type": "markdown",
   "id": "a8a8abae",
   "metadata": {},
   "source": [
    "## Part II - Collections\n",
    "\n",
    "### 2.1 Create and Delete Vector Collections\n",
    "\n",
    "Create a vector collection with dimension of 5\n",
    "If you were using OpenAI here you would use 1376 as the value"
   ]
  },
  {
   "cell_type": "code",
   "execution_count": null,
   "id": "5b2090e9",
   "metadata": {},
   "outputs": [],
   "source": [
    "# Create a collection and then delete it\n",
    "astra_db.create_collection(collection_name=\"collection_test_delete\", dimension=5)\n",
    "astra_db.delete_collection(collection_name=\"collection_test_delete\")\n",
    "\n",
    "# Double check the collections in your vector store\n",
    "astra_db.get_collections()"
   ]
  },
  {
   "cell_type": "markdown",
   "id": "2f7a28e8",
   "metadata": {},
   "source": [
    "At this point you have a collection named \"collection_test\" to do the following operations\n",
    "\n",
    "In the next section, you will be creating the object for your collection\n",
    "\n",
    "### 2.2 Connect to existing collection"
   ]
  },
  {
   "cell_type": "code",
   "execution_count": null,
   "id": "74dcf426",
   "metadata": {},
   "outputs": [],
   "source": [
    "# The return of create_collection() will return the collection\n",
    "collection = astra_db.create_collection(\n",
    "    collection_name=\"collection_test\", dimension=5\n",
    ")\n",
    "\n",
    "# Or you can connect to an existing connection directly\n",
    "collection = AstraDBCollection(\n",
    "    collection_name=\"collection_test\", astra_db=astra_db\n",
    ")\n",
    "\n",
    "# You don't even need the astra_db object\n",
    "collection = AstraDBCollection(\n",
    "    collection_name=\"collection_test\", token=token, api_endpoint=api_endpoint\n",
    ")"
   ]
  },
  {
   "cell_type": "markdown",
   "id": "5036353e",
   "metadata": {},
   "source": [
    "## Part III - Inserting Documents\n",
    "\n",
    "### 3.1 Inserting a document\n",
    "\n",
    "Here is an example of inserting a vector object into your vector store (collection), followed by running a find command to retrieve the document. The first find command fails because that object does not exist. The second find command should succeed."
   ]
  },
  {
   "cell_type": "code",
   "execution_count": null,
   "id": "2cb2876e",
   "metadata": {},
   "outputs": [],
   "source": [
    "collection.insert_one(\n",
    "    {\n",
    "        \"_id\": \"5\",\n",
    "        \"name\": \"Coded Cleats Copy\",\n",
    "        \"description\": \"ChatGPT integrated sneakers that talk to you\",\n",
    "        \"$vector\": [0.25, 0.25, 0.25, 0.25, 0.25],\n",
    "    }\n",
    ")\n",
    "\n",
    "collection.find_one({\"name\": \"potato\"})  # Not found\n",
    "collection.find_one({\"name\": \"Coded Cleats Copy\"})"
   ]
  },
  {
   "cell_type": "markdown",
   "id": "1568ede2",
   "metadata": {},
   "source": [
    "### 3.2 Inserting multiple documents\n",
    "\n",
    "Here is an example of inserting a number of documents into your collection. Note that the json object is 'documents' here, not 'document' as it is in insert_one.\n",
    "\n",
    "In the first insert, the default behavior is in place. If you are inserting documents that already exist, you will get an error and the process will end.\n",
    "\n",
    "These two examples are using non-vector objects."
   ]
  },
  {
   "cell_type": "code",
   "execution_count": null,
   "id": "707bffc4",
   "metadata": {},
   "outputs": [],
   "source": [
    "documents = [\n",
    "    {\n",
    "        \"_id\": \"id_1\",\n",
    "        \"first_name\": \"Dang\",\n",
    "        \"last_name\": \"Son\",\n",
    "    },\n",
    "    {\n",
    "        \"_id\": \"id_2\",\n",
    "        \"first_name\": \"Yep\",\n",
    "        \"last_name\": \"Boss\",\n",
    "    },\n",
    "]\n",
    "response = collection.insert_many(documents=documents)"
   ]
  },
  {
   "cell_type": "markdown",
   "id": "86a12007",
   "metadata": {},
   "source": [
    "In the following insert_many example, options are set so that it skips errors and only inserts successful entries."
   ]
  },
  {
   "cell_type": "code",
   "execution_count": null,
   "id": "c38efc8c",
   "metadata": {},
   "outputs": [],
   "source": [
    "documents2 = [\n",
    "    {\n",
    "        \"_id\": \"id_2\",\n",
    "        \"first_name\": \"Yep\",\n",
    "        \"last_name\": \"Boss\",\n",
    "    },\n",
    "    {\n",
    "        \"_id\": \"id_3\",\n",
    "        \"first_name\": \"Miv\",\n",
    "        \"last_name\": \"Fuff\",\n",
    "    },\n",
    "]\n",
    "response = collection.insert_many(\n",
    "    documents=documents2,\n",
    "    partial_failures_allowed=True,\n",
    ")"
   ]
  },
  {
   "cell_type": "markdown",
   "id": "29cc2479",
   "metadata": {},
   "source": [
    "### 3.3 Inserting multiple vector documents\n",
    "\n",
    "The following code inserts vector objects into the collection in your vector store."
   ]
  },
  {
   "cell_type": "code",
   "execution_count": null,
   "id": "e7bcd1c0",
   "metadata": {},
   "outputs": [],
   "source": [
    "json_query = [\n",
    "    {\n",
    "        \"_id\": str(uuid.uuid4()),\n",
    "        \"name\": \"Coded Cleats\",\n",
    "        \"description\": \"ChatGPT integrated sneakers that talk to you\",\n",
    "        \"$vector\": [0.1, 0.15, 0.3, 0.12, 0.05],\n",
    "    },\n",
    "    {\n",
    "        \"_id\": str(uuid.uuid4()),\n",
    "        \"name\": \"Logic Layers\",\n",
    "        \"description\": \"An AI quilt to help you sleep forever\",\n",
    "        \"$vector\": [0.45, 0.09, 0.01, 0.2, 0.11],\n",
    "    },\n",
    "    {\n",
    "        \"_id\": vv_uuid,\n",
    "        \"name\": \"Vision Vector Frame\",\n",
    "        \"description\": \"Vision Vector Frame - A deep learning display that controls your mood\",\n",
    "        \"$vector\": [0.1, 0.05, 0.08, 0.3, 0.6],\n",
    "    },\n",
    "]\n",
    "\n",
    "res = collection.insert_many(documents=json_query)"
   ]
  },
  {
   "cell_type": "markdown",
   "id": "165f369b",
   "metadata": {},
   "source": [
    "### 3.4 Creating a subdocument\n",
    "\n",
    "The following code uses update to create or update a sub-document under one of your existing documents."
   ]
  },
  {
   "cell_type": "code",
   "execution_count": null,
   "id": "bda37270",
   "metadata": {},
   "outputs": [],
   "source": [
    "document = collection.update_one(\n",
    "    filter={\"_id\": \"id_1\"},\n",
    "    update={\"$set\": {\"name\": \"Eric\"}},\n",
    ")\n",
    "\n",
    "document = collection.find_one(filter={\"_id\": \"id_1\"})"
   ]
  },
  {
   "cell_type": "markdown",
   "id": "66b30a5d",
   "metadata": {},
   "source": [
    "### 3.5 Create a document without an ID"
   ]
  },
  {
   "cell_type": "code",
   "execution_count": null,
   "id": "8b482fd5",
   "metadata": {},
   "outputs": [],
   "source": [
    "response = collection.insert_one(\n",
    "        document={\n",
    "            \"first_name\": \"New\",\n",
    "            \"last_name\": \"Guy\",\n",
    "        }\n",
    "    )\n",
    "\n",
    "document = collection.find_one(filter={\"first_name\": \"New\"})"
   ]
  },
  {
   "cell_type": "markdown",
   "id": "f8d31730",
   "metadata": {},
   "source": [
    "## Part IV - Updating Documents\n",
    "\n",
    "### 4.1 Update a document"
   ]
  },
  {
   "cell_type": "code",
   "execution_count": null,
   "id": "7136828c",
   "metadata": {},
   "outputs": [],
   "source": [
    "collection.update_one(\n",
    "    filter={\"_id\": cliff_uuid},\n",
    "    update={\"$set\": {\"name\": \"Bob\"}},\n",
    ")\n",
    "\n",
    "document = collection.find_one(filter={\"_id\": \"id_1\"})"
   ]
  },
  {
   "cell_type": "markdown",
   "id": "f410408a",
   "metadata": {},
   "source": [
    "### 4.2 Replace a non-vector document"
   ]
  },
  {
   "cell_type": "code",
   "execution_count": null,
   "id": "fc2126d2",
   "metadata": {},
   "outputs": [],
   "source": [
    "collection.find_one_and_replace(\n",
    "        filter={\"_id\": \"id_1\"},\n",
    "        replacement={\n",
    "            \"_id\": \"id_1\",\n",
    "            \"addresses\": {\n",
    "                \"work\": {\n",
    "                    \"city\": \"New York\",\n",
    "                    \"state\": \"NY\",\n",
    "                }\n",
    "            },\n",
    "        },\n",
    "    )\n",
    "document = collection.find_one(filter={\"_id\": \"id_1\"})\n",
    "document_2 = collection.find_one(\n",
    "        filter={\"_id\": cliff_uuid}, projection={\"addresses.work.city\": 1}\n",
    "    )"
   ]
  },
  {
   "cell_type": "markdown",
   "id": "d27b5a5e",
   "metadata": {},
   "source": [
    "## Part V - Finding Documents\n",
    "\n",
    "The below examples show our high-level interfaces for finding documents. Note that corresponding low-level functionality exists, i.e., the high-level interface `vector_find` is a wrapper around the `find` function, as available in the JSON API.\n",
    "\n",
    "### 5.1 Find documents using vector search"
   ]
  },
  {
   "cell_type": "code",
   "execution_count": null,
   "id": "3bc6e185",
   "metadata": {},
   "outputs": [],
   "source": [
    "documents = collection.vector_find(\n",
    "    [0.15, 0.1, 0.1, 0.35, 0.55],\n",
    "    limit=100,\n",
    ")"
   ]
  },
  {
   "cell_type": "markdown",
   "id": "4a535c7b",
   "metadata": {},
   "source": [
    "### 5.2 Find documents using vector search and projection"
   ]
  },
  {
   "cell_type": "code",
   "execution_count": null,
   "id": "dd98b9bb",
   "metadata": {},
   "outputs": [],
   "source": [
    "documents = collection.vector_find(\n",
    "    [0.15, 0.1, 0.1, 0.35, 0.55],\n",
    "    limit=100,\n",
    "    fields=[\"$vector\"],\n",
    ")"
   ]
  },
  {
   "cell_type": "markdown",
   "id": "5a759890",
   "metadata": {},
   "source": [
    "### 5.3 Find one and update with vector search"
   ]
  },
  {
   "cell_type": "code",
   "execution_count": null,
   "id": "8c66ecdf",
   "metadata": {},
   "outputs": [],
   "source": [
    "update = {\"$set\": {\"status\": \"active\"}}\n",
    "\n",
    "document = collection.find_one(filter={\"status\": \"active\"})\n",
    "\n",
    "collection.vector_find_one_and_update(\n",
    "    [0.15, 0.1, 0.1, 0.35, 0.55],\n",
    "    update=update,\n",
    ")\n",
    "\n",
    "document = collection.find_one(filter={\"status\": \"active\"})"
   ]
  },
  {
   "cell_type": "markdown",
   "id": "9f63e92f",
   "metadata": {},
   "source": [
    "### 5.4 Find one and replace with vector search"
   ]
  },
  {
   "cell_type": "code",
   "execution_count": null,
   "id": "8bb8a06d",
   "metadata": {},
   "outputs": [],
   "source": [
    "replacement = {\n",
    "    \"_id\": \"1\",\n",
    "    \"name\": \"Vision Vector Frame\",\n",
    "    \"description\": \"Vision Vector Frame - A deep learning display that controls your mood\",\n",
    "    \"$vector\": [0.1, 0.05, 0.08, 0.3, 0.6],\n",
    "    \"status\": \"inactive\",\n",
    "}\n",
    "\n",
    "collection.vector_find_one_and_replace(\n",
    "    [0.15, 0.1, 0.1, 0.35, 0.55],\n",
    "    replacement=replacement,\n",
    ")\n",
    "\n",
    "document = collection.find_one(filter={\"name\": \"Vision Vector Frame\"})"
   ]
  },
  {
   "cell_type": "markdown",
   "id": "1459fda4",
   "metadata": {},
   "source": [
    "## Part VI - Deleting Documents\n",
    "\n",
    "### 6.1 Delete a subdocument"
   ]
  },
  {
   "cell_type": "code",
   "execution_count": null,
   "id": "8fe192a0",
   "metadata": {},
   "outputs": [],
   "source": [
    "response = collection.delete_subdocument(id=\"id_1\", subdoc=\"addresses\")\n",
    "document = collection.find(filter={\"_id\": \"id_1\"})"
   ]
  },
  {
   "cell_type": "markdown",
   "id": "1b8a5ebb",
   "metadata": {},
   "source": [
    "## 6.2 Delete a document"
   ]
  },
  {
   "cell_type": "code",
   "execution_count": null,
   "id": "aa7a0591",
   "metadata": {},
   "outputs": [],
   "source": [
    "response = collection.delete(id=\"id_1\")"
   ]
  },
  {
   "cell_type": "markdown",
   "id": "bd7f1886",
   "metadata": {},
   "source": [
    "### More Information\n",
    "\n",
    "Check out the [notebook](https://colab.research.google.com/github/synedra/astra_vector_examples/blob/main/notebook/vector.ipynb#scrollTo=f04a1806) which has examples for finding and inserting information into the database, including vector commands.\n",
    "\n",
    "Take a look at the [astra db tests](https://github.com/datastax/astrapy/blob/master/tests/astrapy/test_db.py) for specific endpoint examples.\n",
    "\n",
    "### Using the Ops Client\n",
    "\n",
    "You can use the Ops client to work with the Astra DevOps API. Check the [devops tests](https://github.com/datastax/astrapy/blob/master/tests/astrapy/test_ops.py)\n",
    "\n",
    "## For Developers\n",
    "\n",
    "You should additionally `pip install -r requirements-dev.txt` in a development\n",
    "environment (note that the `pip install -e .` is covered by the regular\n",
    "requirements file already).\n",
    "\n",
    "### Style, linter, typing\n",
    "\n",
    "AstraPy tries to be consistent in code style and linting.\n",
    "Moreover, **type annotations** are used everywhere.\n",
    "\n",
    "To ensure the code complies, you should get no errors\n",
    "(_Success: no issues found..._) when running the following in the root dir:"
   ]
  },
  {
   "cell_type": "code",
   "execution_count": null,
   "id": "775de425",
   "metadata": {},
   "outputs": [],
   "source": [
    "black --check astrapy && ruff astrapy && mypy astrapy"
   ]
  },
  {
   "cell_type": "markdown",
   "id": "7f1376ec",
   "metadata": {},
   "source": [
    "Likewise, for the tests:"
   ]
  },
  {
   "cell_type": "code",
   "execution_count": null,
   "id": "28be6821",
   "metadata": {},
   "outputs": [],
   "source": [
    "black --check tests && ruff tests && mypy tests"
   ]
  },
  {
   "cell_type": "markdown",
   "id": "22fb3e6a",
   "metadata": {},
   "source": [
    "### Testing\n",
    "\n",
    "Ensure you provide all required environment variables:"
   ]
  },
  {
   "cell_type": "code",
   "execution_count": null,
   "id": "c80ba7a4",
   "metadata": {},
   "outputs": [],
   "source": [
    "%%bash\n",
    "export ASTRA_DB_ID=\"...\"\n",
    "export ASTRA_DB_APPLICATION_TOKEN=\"...\"\n",
    "export ASTRA_DB_API_ENDPOINT=\"...\""
   ]
  },
  {
   "cell_type": "markdown",
   "id": "f2510ce5",
   "metadata": {},
   "source": [
    "then you can run:"
   ]
  },
  {
   "cell_type": "code",
   "execution_count": null,
   "id": "3252c128",
   "metadata": {},
   "outputs": [],
   "source": [
    "%%bash\n",
    "pytest"
   ]
  }
 ],
 "metadata": {},
 "nbformat": 4,
 "nbformat_minor": 5
}
